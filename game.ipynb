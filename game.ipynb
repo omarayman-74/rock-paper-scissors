{
 "cells": [
  {
   "cell_type": "code",
   "execution_count": 1,
   "metadata": {},
   "outputs": [
    {
     "name": "stdout",
     "output_type": "stream",
     "text": [
      "Choose your move: Rock, Paper, or Scissors.\n",
      "You chose Rock.\n",
      "Computer chose Rock.\n",
      "It's a tie!\n",
      "Choose your move: Rock, Paper, or Scissors.\n",
      "You chose Paper.\n",
      "Computer chose Paper.\n",
      "It's a tie!\n",
      "Thanks for playing! Goodbye!\n"
     ]
    }
   ],
   "source": [
    "import random\n",
    "\n",
    "def get_player_choice():\n",
    "    while True:\n",
    "        print(\"Choose your move: Rock, Paper, or Scissors.\")\n",
    "        player_choice = input().strip().capitalize()\n",
    "        if player_choice in [\"Rock\", \"Paper\", \"Scissors\"]:\n",
    "            return player_choice\n",
    "        else:\n",
    "            print(\"Invalid choice. Please choose Rock, Paper, or Scissors.\")\n",
    "\n",
    "def get_computer_choice():\n",
    "    choices = [\"Rock\", \"Paper\", \"Scissors\"]\n",
    "    return random.choice(choices)\n",
    "\n",
    "def determine_winner(player_choice, computer_choice):\n",
    "    if player_choice == computer_choice:\n",
    "        return \"It's a tie!\"\n",
    "    if (player_choice == \"Rock\" and computer_choice == \"Scissors\") or \\\n",
    "       (player_choice == \"Paper\" and computer_choice == \"Rock\") or \\\n",
    "       (player_choice == \"Scissors\" and computer_choice == \"Paper\"):\n",
    "        return \"You win!\"\n",
    "    return \"Computer wins!\"\n",
    "\n",
    "while True:\n",
    "    player_choice = get_player_choice()\n",
    "    computer_choice = get_computer_choice()\n",
    "    \n",
    "    print(f\"You chose {player_choice}.\")\n",
    "    print(f\"Computer chose {computer_choice}.\")\n",
    "    \n",
    "    result = determine_winner(player_choice, computer_choice)\n",
    "    print(result)\n",
    "    \n",
    "    play_again = input(\"Do you want to play again? (yes/no): \").strip().lower()\n",
    "    if play_again != \"yes\":\n",
    "        print(\"Thanks for playing! Goodbye!\")\n",
    "        break\n"
   ]
  }
 ],
 "metadata": {
  "kernelspec": {
   "display_name": "Python 3",
   "language": "python",
   "name": "python3"
  },
  "language_info": {
   "codemirror_mode": {
    "name": "ipython",
    "version": 3
   },
   "file_extension": ".py",
   "mimetype": "text/x-python",
   "name": "python",
   "nbconvert_exporter": "python",
   "pygments_lexer": "ipython3",
   "version": "3.9.6"
  }
 },
 "nbformat": 4,
 "nbformat_minor": 2
}
